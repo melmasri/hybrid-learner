{
 "cells": [
  {
   "cell_type": "markdown",
   "metadata": {},
   "source": [
    "# Analysis code of paper results\n",
    "\n",
    "Code associated with Elmasri, M (2022) Parallel sampling of decomposable graphs using Markov chain on junction tree. see [ArXiv](https://arxiv.org/abs/2209.02008)\n",
    "\n",
    "\n",
    "\n",
    "To run the code, follow these steps:\n",
    "\n",
    "1. Install Benchpress from [here](https://benchpressdocs.readthedocs.io/en/latest/).\n",
    "\n",
    "2. Pull the code from GitHub using the following commands:\n",
    "    ```\n",
    "    git clone https://github.com/felixleopoldo/benchpress.git\n",
    "    cd benchpress\n",
    "    git checkout paralleldg\n",
    "    git pull origin paralleldg\n",
    "    git checkout ba83a10d\n",
    "    ```\n",
    "\n",
    "3. Run the code with the bash command:\n",
    "    ```\n",
    "    snakemake --cores all --use-singularity --configfile config/elmasri_parallel.json\n",
    "    ```\n",
    "\n",
    "4. All results should exist in the folder `benchpress/results`.\n",
    "\n",
    "5. To analyze the results, run an external Jupyter notebook as follows:\n",
    "    ```\n",
    "    cd ../\n",
    "    git clone git@github.com:melmasri/parallelDG.git\n",
    "    jupyter notebook\n",
    "    ```\n",
    "\n",
    "6. In the browser (normally at localhost:8889), run the notebook `examples/benchpress_analysis.ipynb`.\n",
    "\n",
    "\n",
    "7. Please change the variable BENCHPRESS_LOC to the location of benchpress results, normally in `benchpress/results/`\n"
   ]
  },
  {
   "cell_type": "markdown",
   "metadata": {},
   "source": [
    "## Parameter setup"
   ]
  },
  {
   "cell_type": "code",
   "execution_count": 1,
   "metadata": {},
   "outputs": [
    {
     "name": "stdout",
     "output_type": "stream",
     "text": [
      "current wd: /Users/m.elmasri/src/dualgl\n"
     ]
    }
   ],
   "source": [
    "%load_ext autoreload\n",
    "%autoreload 2\n",
    "import os\n",
    "print(f\"current wd: {os.getcwd()}\")\n",
    "from utils import *\n",
    "import networkx as nx\n",
    "import matplotlib\n",
    "import json\n",
    "from networkx.drawing.nx_pydot import graphviz_layout\n",
    "sys.path.append('..')\n",
    "sys.path.append('/Users/m.elmasri/src/parallelDG/parallelDG/')\n",
    "sns.set_style(\"whitegrid\")\n",
    "roc_columns = ['adjmat', 'parameters', 'data']\n",
    "\n",
    "## all simulations\n",
    "parameters = ['intra-class', 'gwi']\n",
    "#parameters = ['intra-class']\n",
    "data = ['n=50/', 'n=100/', 'n=200/', 'n=500/']\n",
    "adjmat = ['circle', 'lattice', 'random', 'bandmat']\n",
    "\n",
    "# adjamt renameing\n",
    "adjamt_rename = {'bandmat': 'AR', 'random': 'random', 'lattice': 'lattice', 'circle': 'circle'}\n",
    "adjmat_fullname = {\n",
    "    'cta': 'Christmas Tree Algorithm',\n",
    "    'bandmat': 'Autoregressive',\n",
    "    'random' : 'Random',\n",
    "    'circle' : 'Circle',\n",
    "    'lattice': 'Lattice'\n",
    "}\n",
    "\n",
    "gt13_label = 'GT13-s'\n",
    "dualgl_label = 'Dual Graph'\n",
    "mb_label = 'MB09'\n",
    "bdgraph_label = 'MHG23-BDMCMC'\n",
    "glass_label = 'G-Lasso'\n",
    "psi_label = 'psi-Learner'"
   ]
  },
  {
   "cell_type": "markdown",
   "metadata": {},
   "source": [
    "# ROC curves"
   ]
  },
  {
   "cell_type": "code",
   "execution_count": 4,
   "metadata": {},
   "outputs": [
    {
     "name": "stdout",
     "output_type": "stream",
     "text": [
      "{'adjmat': 'graph=circle', 'data': 'n=50/', 'parameters': 'intra-class'}\n",
      "save to: img/roc_graphn=50, graph=graph=circle, param=intra-class.jpg\n",
      "{'adjmat': 'graph=circle', 'data': 'n=100/', 'parameters': 'intra-class'}\n",
      "save to: img/roc_graphn=100, graph=graph=circle, param=intra-class.jpg\n",
      "{'adjmat': 'graph=circle', 'data': 'n=200/', 'parameters': 'intra-class'}\n",
      "save to: img/roc_graphn=200, graph=graph=circle, param=intra-class.jpg\n",
      "{'adjmat': 'graph=circle', 'data': 'n=500/', 'parameters': 'intra-class'}\n",
      "save to: img/roc_graphn=500, graph=graph=circle, param=intra-class.jpg\n",
      "{'adjmat': 'graph=lattice', 'data': 'n=50/', 'parameters': 'intra-class'}\n",
      "save to: img/roc_graphn=50, graph=graph=lattice, param=intra-class.jpg\n",
      "{'adjmat': 'graph=lattice', 'data': 'n=100/', 'parameters': 'intra-class'}\n",
      "save to: img/roc_graphn=100, graph=graph=lattice, param=intra-class.jpg\n",
      "{'adjmat': 'graph=lattice', 'data': 'n=200/', 'parameters': 'intra-class'}\n",
      "save to: img/roc_graphn=200, graph=graph=lattice, param=intra-class.jpg\n",
      "{'adjmat': 'graph=lattice', 'data': 'n=500/', 'parameters': 'intra-class'}\n",
      "save to: img/roc_graphn=500, graph=graph=lattice, param=intra-class.jpg\n",
      "{'adjmat': 'graph=random', 'data': 'n=50/', 'parameters': 'intra-class'}\n",
      "save to: img/roc_graphn=50, graph=graph=random, param=intra-class.jpg\n",
      "{'adjmat': 'graph=random', 'data': 'n=100/', 'parameters': 'intra-class'}\n",
      "save to: img/roc_graphn=100, graph=graph=random, param=intra-class.jpg\n",
      "{'adjmat': 'graph=random', 'data': 'n=200/', 'parameters': 'intra-class'}\n",
      "save to: img/roc_graphn=200, graph=graph=random, param=intra-class.jpg\n",
      "{'adjmat': 'graph=random', 'data': 'n=500/', 'parameters': 'intra-class'}\n",
      "save to: img/roc_graphn=500, graph=graph=random, param=intra-class.jpg\n",
      "{'adjmat': 'graph=bandmat', 'data': 'n=50/', 'parameters': 'intra-class'}\n",
      "save to: img/roc_graphn=50, graph=graph=bandmat, param=intra-class.jpg\n",
      "{'adjmat': 'graph=bandmat', 'data': 'n=100/', 'parameters': 'intra-class'}\n",
      "save to: img/roc_graphn=100, graph=graph=bandmat, param=intra-class.jpg\n",
      "{'adjmat': 'graph=bandmat', 'data': 'n=200/', 'parameters': 'intra-class'}\n",
      "save to: img/roc_graphn=200, graph=graph=bandmat, param=intra-class.jpg\n",
      "{'adjmat': 'graph=bandmat', 'data': 'n=500/', 'parameters': 'intra-class'}\n",
      "save to: img/roc_graphn=500, graph=graph=bandmat, param=intra-class.jpg\n",
      "{'adjmat': 'graph=circle', 'data': 'n=50/', 'parameters': 'gwi'}\n",
      "save to: img/roc_graphn=50, graph=graph=circle, param=gwi.jpg\n",
      "{'adjmat': 'graph=circle', 'data': 'n=100/', 'parameters': 'gwi'}\n",
      "save to: img/roc_graphn=100, graph=graph=circle, param=gwi.jpg\n",
      "{'adjmat': 'graph=circle', 'data': 'n=200/', 'parameters': 'gwi'}\n",
      "save to: img/roc_graphn=200, graph=graph=circle, param=gwi.jpg\n",
      "{'adjmat': 'graph=circle', 'data': 'n=500/', 'parameters': 'gwi'}\n",
      "save to: img/roc_graphn=500, graph=graph=circle, param=gwi.jpg\n",
      "{'adjmat': 'graph=lattice', 'data': 'n=50/', 'parameters': 'gwi'}\n",
      "save to: img/roc_graphn=50, graph=graph=lattice, param=gwi.jpg\n",
      "{'adjmat': 'graph=lattice', 'data': 'n=100/', 'parameters': 'gwi'}\n",
      "save to: img/roc_graphn=100, graph=graph=lattice, param=gwi.jpg\n",
      "{'adjmat': 'graph=lattice', 'data': 'n=200/', 'parameters': 'gwi'}\n",
      "save to: img/roc_graphn=200, graph=graph=lattice, param=gwi.jpg\n",
      "{'adjmat': 'graph=lattice', 'data': 'n=500/', 'parameters': 'gwi'}\n",
      "save to: img/roc_graphn=500, graph=graph=lattice, param=gwi.jpg\n",
      "{'adjmat': 'graph=random', 'data': 'n=50/', 'parameters': 'gwi'}\n",
      "save to: img/roc_graphn=50, graph=graph=random, param=gwi.jpg\n",
      "{'adjmat': 'graph=random', 'data': 'n=100/', 'parameters': 'gwi'}\n",
      "save to: img/roc_graphn=100, graph=graph=random, param=gwi.jpg\n",
      "{'adjmat': 'graph=random', 'data': 'n=200/', 'parameters': 'gwi'}\n",
      "save to: img/roc_graphn=200, graph=graph=random, param=gwi.jpg\n",
      "{'adjmat': 'graph=random', 'data': 'n=500/', 'parameters': 'gwi'}\n",
      "save to: img/roc_graphn=500, graph=graph=random, param=gwi.jpg\n",
      "{'adjmat': 'graph=bandmat', 'data': 'n=50/', 'parameters': 'gwi'}\n",
      "save to: img/roc_graphn=50, graph=graph=bandmat, param=gwi.jpg\n",
      "{'adjmat': 'graph=bandmat', 'data': 'n=100/', 'parameters': 'gwi'}\n",
      "save to: img/roc_graphn=100, graph=graph=bandmat, param=gwi.jpg\n",
      "{'adjmat': 'graph=bandmat', 'data': 'n=200/', 'parameters': 'gwi'}\n",
      "save to: img/roc_graphn=200, graph=graph=bandmat, param=gwi.jpg\n",
      "{'adjmat': 'graph=bandmat', 'data': 'n=500/', 'parameters': 'gwi'}\n",
      "save to: img/roc_graphn=500, graph=graph=bandmat, param=gwi.jpg\n"
     ]
    }
   ],
   "source": [
    "for par in parameters:\n",
    "    for adj in adjmat: \n",
    "        for d in data:\n",
    "            adjmat_pattern= 'graph=' + adj\n",
    "            data_pattern  = d\n",
    "            parameters_pattern = par\n",
    "            benchmark_pattern = '*' + par + '*'\n",
    "            patterns = {\n",
    "                'adjmat': adjmat_pattern,\n",
    "                'data': data_pattern,\n",
    "                'parameters': parameters_pattern,\n",
    "            }\n",
    "            roc_filename = get_ROCfilenaem(benchmark_pattern)\n",
    "            roc_file = file_roc_data(roc_filename, patterns)\n",
    "            print(patterns) \n",
    "            dualgp = get_tpr_fpr_threshold(get_model(roc_file, 'dual'))\n",
    "            gt13_roc = get_tpr_fpr_threshold(get_model(roc_file, 'gts'))\n",
    "            mb = get_tpr_fpr_threshold(get_model(roc_file, 'mb'))\n",
    "            bdgraph = get_tpr_fpr_threshold(get_model(roc_file, 'bdgraph'))\n",
    "            glass = get_tpr_fpr_threshold(get_model(roc_file, 'glass'))\n",
    "            psi = get_tpr_fpr_threshold(get_model(roc_file, 'psi'))\n",
    "\n",
    "\n",
    "            # Plotting the ROC curve\n",
    "            plt.figure()\n",
    "            plt.plot(dualgp[0], dualgp[1], lw=1, label=dualgl_label)\n",
    "            plt.plot(mb[0], mb[1], lw=1,linestyle=':', label=mb_label)\n",
    "            plt.plot(glass[0], glass[1], lw=1,linestyle=':', label=glass_label)\n",
    "            plt.plot(psi[0], psi[1], lw=1, linestyle = '--',label=psi_label)\n",
    "            plt.plot(gt13_roc[0], gt13_roc[1], lw=1, linestyle='-.', label=gt13_label)\n",
    "            plt.plot(bdgraph[0], bdgraph[1], lw=1,linestyle='-.', label=bdgraph_label)\n",
    "            plt.xlabel('Average False Positive Rate')\n",
    "            plt.ylabel('Average True Positive Rate')\n",
    "            # plt.title('Receiver Operating Characteristic')\n",
    "            plt.legend(loc=\"lower right\", title = get_title(patterns))\n",
    "            save_location('roc_graph' + get_title(patterns))\n",
    "            plt.close()\n",
    "\n"
   ]
  },
  {
   "cell_type": "markdown",
   "metadata": {},
   "source": []
  },
  {
   "cell_type": "markdown",
   "metadata": {},
   "source": [
    "# Trace plots of likliehood"
   ]
  },
  {
   "cell_type": "code",
   "execution_count": 5,
   "metadata": {},
   "outputs": [
    {
     "ename": "NameError",
     "evalue": "name 'gt13_files' is not defined",
     "output_type": "error",
     "traceback": [
      "\u001b[0;31m---------------------------------------------------------------------------\u001b[0m",
      "\u001b[0;31mNameError\u001b[0m                                 Traceback (most recent call last)",
      "Cell \u001b[0;32mIn[5], line 1\u001b[0m\n\u001b[0;32m----> 1\u001b[0m \u001b[38;5;28;01mfor\u001b[39;00m f \u001b[38;5;129;01min\u001b[39;00m \u001b[43mgt13_files\u001b[49m:\n\u001b[1;32m      2\u001b[0m     score_traj_plot(f)\n\u001b[1;32m      3\u001b[0m \u001b[38;5;66;03m#plt.ylim((0, 2400))\u001b[39;00m\n",
      "\u001b[0;31mNameError\u001b[0m: name 'gt13_files' is not defined"
     ]
    }
   ],
   "source": [
    "for f in gt13_files:\n",
    "    score_traj_plot(f)\n",
    "#plt.ylim((0, 2400))\n",
    "plt.title(gt13_label + ', ' + get_title(patterns))\n",
    "save_location('gt_traj_'+ get_title(patterns))\n",
    "#plt.show()"
   ]
  },
  {
   "cell_type": "code",
   "execution_count": null,
   "metadata": {},
   "outputs": [
    {
     "name": "stderr",
     "output_type": "stream",
     "text": [
      "/Users/m.elmasri/src/dualgl/utils.py:157: FutureWarning: DataFrame.fillna with 'method' is deprecated and will raise in a future version. Use obj.ffill() or obj.bfill() instead.\n",
      "  columns=df2.columns).fillna(method=\"ffill\")\n",
      "/Users/m.elmasri/src/dualgl/utils.py:157: FutureWarning: DataFrame.fillna with 'method' is deprecated and will raise in a future version. Use obj.ffill() or obj.bfill() instead.\n",
      "  columns=df2.columns).fillna(method=\"ffill\")\n",
      "/Users/m.elmasri/src/dualgl/utils.py:157: FutureWarning: DataFrame.fillna with 'method' is deprecated and will raise in a future version. Use obj.ffill() or obj.bfill() instead.\n",
      "  columns=df2.columns).fillna(method=\"ffill\")\n",
      "/Users/m.elmasri/src/dualgl/utils.py:157: FutureWarning: DataFrame.fillna with 'method' is deprecated and will raise in a future version. Use obj.ffill() or obj.bfill() instead.\n",
      "  columns=df2.columns).fillna(method=\"ffill\")\n",
      "/Users/m.elmasri/src/dualgl/utils.py:157: FutureWarning: DataFrame.fillna with 'method' is deprecated and will raise in a future version. Use obj.ffill() or obj.bfill() instead.\n",
      "  columns=df2.columns).fillna(method=\"ffill\")\n"
     ]
    },
    {
     "name": "stdout",
     "output_type": "stream",
     "text": [
      "save to: img/bdgraph_traj_n=100, graph=circle, param=intra-class.jpg\n"
     ]
    }
   ],
   "source": [
    "for f in bdgraph_files:\n",
    "    score_traj_plot(f)\n",
    "#plt.ylim((0, 2400))\n",
    "plt.title(bdgraph_label + ', ' + get_title(patterns))\n",
    "save_location('bdgraph_traj_'+ get_title(patterns))\n",
    "#plt.show()\n"
   ]
  },
  {
   "cell_type": "markdown",
   "metadata": {},
   "source": [
    "# Trace plot of number of edges"
   ]
  },
  {
   "cell_type": "code",
   "execution_count": null,
   "metadata": {},
   "outputs": [
    {
     "name": "stderr",
     "output_type": "stream",
     "text": [
      "/Users/m.elmasri/src/dualgl/utils.py:122: FutureWarning: DataFrame.fillna with 'method' is deprecated and will raise in a future version. Use obj.ffill() or obj.bfill() instead.\n",
      "  columns=df2.columns).fillna(method=\"ffill\")\n",
      "/Users/m.elmasri/src/dualgl/utils.py:122: FutureWarning: DataFrame.fillna with 'method' is deprecated and will raise in a future version. Use obj.ffill() or obj.bfill() instead.\n",
      "  columns=df2.columns).fillna(method=\"ffill\")\n",
      "/Users/m.elmasri/src/dualgl/utils.py:122: FutureWarning: DataFrame.fillna with 'method' is deprecated and will raise in a future version. Use obj.ffill() or obj.bfill() instead.\n",
      "  columns=df2.columns).fillna(method=\"ffill\")\n",
      "/Users/m.elmasri/src/dualgl/utils.py:122: FutureWarning: DataFrame.fillna with 'method' is deprecated and will raise in a future version. Use obj.ffill() or obj.bfill() instead.\n",
      "  columns=df2.columns).fillna(method=\"ffill\")\n",
      "/Users/m.elmasri/src/dualgl/utils.py:122: FutureWarning: DataFrame.fillna with 'method' is deprecated and will raise in a future version. Use obj.ffill() or obj.bfill() instead.\n",
      "  columns=df2.columns).fillna(method=\"ffill\")\n"
     ]
    },
    {
     "name": "stdout",
     "output_type": "stream",
     "text": [
      "save to: img/gt_size_n=100, graph=circle, param=intra-class.jpg\n"
     ]
    }
   ],
   "source": [
    "for f in gt13_files:\n",
    "    size_traj_plot(f)\n",
    "plt.title(gt13_label + ', ' + get_title(patterns))\n",
    "save_location('gt_size_' + get_title(patterns))"
   ]
  },
  {
   "cell_type": "code",
   "execution_count": null,
   "metadata": {},
   "outputs": [
    {
     "name": "stderr",
     "output_type": "stream",
     "text": [
      "/Users/m.elmasri/src/dualgl/utils.py:122: FutureWarning: DataFrame.fillna with 'method' is deprecated and will raise in a future version. Use obj.ffill() or obj.bfill() instead.\n",
      "  columns=df2.columns).fillna(method=\"ffill\")\n",
      "/Users/m.elmasri/src/dualgl/utils.py:122: FutureWarning: DataFrame.fillna with 'method' is deprecated and will raise in a future version. Use obj.ffill() or obj.bfill() instead.\n",
      "  columns=df2.columns).fillna(method=\"ffill\")\n",
      "/Users/m.elmasri/src/dualgl/utils.py:122: FutureWarning: DataFrame.fillna with 'method' is deprecated and will raise in a future version. Use obj.ffill() or obj.bfill() instead.\n",
      "  columns=df2.columns).fillna(method=\"ffill\")\n"
     ]
    },
    {
     "name": "stdout",
     "output_type": "stream",
     "text": [
      "save to: img/bdgraph_size_n=100, graph=circle, param=intra-class.jpg\n"
     ]
    },
    {
     "name": "stderr",
     "output_type": "stream",
     "text": [
      "/Users/m.elmasri/src/dualgl/utils.py:122: FutureWarning: DataFrame.fillna with 'method' is deprecated and will raise in a future version. Use obj.ffill() or obj.bfill() instead.\n",
      "  columns=df2.columns).fillna(method=\"ffill\")\n",
      "/Users/m.elmasri/src/dualgl/utils.py:122: FutureWarning: DataFrame.fillna with 'method' is deprecated and will raise in a future version. Use obj.ffill() or obj.bfill() instead.\n",
      "  columns=df2.columns).fillna(method=\"ffill\")\n"
     ]
    },
    {
     "ename": "",
     "evalue": "",
     "output_type": "error",
     "traceback": [
      "\u001b[1;31mThe Kernel crashed while executing code in the current cell or a previous cell. \n",
      "\u001b[1;31mPlease review the code in the cell(s) to identify a possible cause of the failure. \n",
      "\u001b[1;31mClick <a href='https://aka.ms/vscodeJupyterKernelCrash'>here</a> for more info. \n",
      "\u001b[1;31mView Jupyter <a href='command:jupyter.viewOutput'>log</a> for further details."
     ]
    }
   ],
   "source": [
    "for f in bdgraph_files:\n",
    "    size_traj_plot(f)\n",
    "plt.title(bdgraph_label + ', ' + get_title(patterns))\n",
    "save_location('bdgraph_size_'+ get_title(patterns))"
   ]
  },
  {
   "cell_type": "markdown",
   "metadata": {},
   "source": [
    "# Heatmap"
   ]
  },
  {
   "cell_type": "code",
   "execution_count": null,
   "metadata": {},
   "outputs": [
    {
     "name": "stdout",
     "output_type": "stream",
     "text": [
      "save to: img/gt_heatmap_traj_n=100, graph=circle, param=intra-class0.jpg\n",
      "save to: img/gt_heatmap_traj_n=100, graph=circle, param=intra-class1.jpg\n",
      "save to: img/gt_heatmap_traj_n=100, graph=circle, param=intra-class2.jpg\n",
      "save to: img/gt_heatmap_traj_n=100, graph=circle, param=intra-class3.jpg\n",
      "save to: img/gt_heatmap_traj_n=100, graph=circle, param=intra-class4.jpg\n"
     ]
    },
    {
     "ename": "",
     "evalue": "",
     "output_type": "error",
     "traceback": [
      "\u001b[1;31mThe Kernel crashed while executing code in the current cell or a previous cell. \n",
      "\u001b[1;31mPlease review the code in the cell(s) to identify a possible cause of the failure. \n",
      "\u001b[1;31mClick <a href='https://aka.ms/vscodeJupyterKernelCrash'>here</a> for more info. \n",
      "\u001b[1;31mView Jupyter <a href='command:jupyter.viewOutput'>log</a> for further details."
     ]
    }
   ],
   "source": [
    "k=0\n",
    "for f in gt13_files:\n",
    "    plot_heatmap(f, cbar=False)\n",
    "    plt.title(gt13_label +  get_title(patterns) + f\" Graph {k+1}\")\n",
    "    save_location('gt_heatmap_traj_' + get_title(patterns) + str(k))\n",
    "    k+=1"
   ]
  },
  {
   "cell_type": "code",
   "execution_count": null,
   "metadata": {},
   "outputs": [
    {
     "name": "stdout",
     "output_type": "stream",
     "text": [
      "save to: img/bdgraph_heatmap_traj_n=100, graph=circle, param=intra-class0.jpg\n",
      "save to: img/bdgraph_heatmap_traj_n=100, graph=circle, param=intra-class1.jpg\n",
      "save to: img/bdgraph_heatmap_traj_n=100, graph=circle, param=intra-class2.jpg\n",
      "save to: img/bdgraph_heatmap_traj_n=100, graph=circle, param=intra-class3.jpg\n",
      "save to: img/bdgraph_heatmap_traj_n=100, graph=circle, param=intra-class4.jpg\n"
     ]
    }
   ],
   "source": [
    "k=0\n",
    "for f in bdgraph_files:\n",
    "    plot_heatmap(f, cbar=False)\n",
    "    plt.title(bdgraph_label + get_title(patterns)+ f\" Graph {k+1}\")\n",
    "    save_location('bdgraph_heatmap_traj_' + get_title(patterns) + str(k))\n",
    "    k+=1"
   ]
  },
  {
   "cell_type": "code",
   "execution_count": null,
   "metadata": {},
   "outputs": [
    {
     "name": "stdout",
     "output_type": "stream",
     "text": [
      "save to: img/true_graph_traj_graph=circle0.jpg\n",
      "save to: img/true_graph_traj_graph=circle1.jpg\n",
      "save to: img/true_graph_traj_graph=circle2.jpg\n",
      "save to: img/true_graph_traj_graph=circle3.jpg\n",
      "save to: img/true_graph_traj_graph=circle4.jpg\n"
     ]
    }
   ],
   "source": [
    "k=0\n",
    "for f in true_graph_files:\n",
    "    plot_graph(read_csv_from_tar_gz(f), cbar=False)\n",
    "    plt.title(f\"Graph {k+1}\" + ' - ' +  patterns['adjmat'])\n",
    "    save_location('true_graph_traj_' +  patterns['adjmat'] + str(k))\n",
    "    plt.clf()\n",
    "    k+=1"
   ]
  },
  {
   "cell_type": "code",
   "execution_count": null,
   "metadata": {},
   "outputs": [
    {
     "name": "stdout",
     "output_type": "stream",
     "text": [
      "save to: img/true_graph_graph=circle0.jpg\n",
      "save to: img/true_graph_graph=circle1.jpg\n",
      "save to: img/true_graph_graph=circle2.jpg\n",
      "save to: img/true_graph_graph=circle3.jpg\n",
      "save to: img/true_graph_graph=circle4.jpg\n"
     ]
    }
   ],
   "source": [
    "k=0\n",
    "for f in true_graph_files:\n",
    "    plot_nx_graph(read_csv_from_tar_gz(f))\n",
    "    plt.title(f\"Graph {k+1}\" + ' - ' + patterns['adjmat'])\n",
    "    save_location('true_graph_' + patterns['adjmat']+ str(k))\n",
    "    plt.clf()\n",
    "    k+=1"
   ]
  },
  {
   "cell_type": "markdown",
   "metadata": {},
   "source": [
    "# Plotting Max Score graph"
   ]
  },
  {
   "cell_type": "code",
   "execution_count": null,
   "metadata": {},
   "outputs": [
    {
     "name": "stdout",
     "output_type": "stream",
     "text": [
      "save to: img/gt_max_score_n=100, graph=circle, param=intra-class0.jpg\n",
      "save to: img/gt_max_score_n=100, graph=circle, param=intra-class1.jpg\n",
      "save to: img/gt_max_score_n=100, graph=circle, param=intra-class2.jpg\n",
      "save to: img/gt_max_score_n=100, graph=circle, param=intra-class3.jpg\n",
      "save to: img/gt_max_score_n=100, graph=circle, param=intra-class4.jpg\n"
     ]
    }
   ],
   "source": [
    "k=0\n",
    "for f in gt13_files:\n",
    "    plot_max_score_graph(read_csv_from_tar_gz(f))\n",
    "    plt.title(gt13_label +  get_title(patterns) + f\" Graph {k+1}\")\n",
    "    save_location('gt_max_score_' + get_title(patterns) + str(k))\n",
    "    k+=1"
   ]
  },
  {
   "cell_type": "code",
   "execution_count": null,
   "metadata": {},
   "outputs": [
    {
     "name": "stdout",
     "output_type": "stream",
     "text": [
      "save to: img/bdgraph_max_score_n=100, graph=circle, param=intra-class0.jpg\n",
      "save to: img/bdgraph_max_score_n=100, graph=circle, param=intra-class1.jpg\n",
      "save to: img/bdgraph_max_score_n=100, graph=circle, param=intra-class2.jpg\n",
      "save to: img/bdgraph_max_score_n=100, graph=circle, param=intra-class3.jpg\n",
      "save to: img/bdgraph_max_score_n=100, graph=circle, param=intra-class4.jpg\n"
     ]
    }
   ],
   "source": [
    "k=0\n",
    "for f in bdgraph_files:\n",
    "    plot_max_score_graph(read_csv_from_tar_gz(f))\n",
    "    plt.title(bdgraph_label + get_title(patterns)+ f\" Graph {k+1}\")\n",
    "    save_location('bdgraph_max_score_' + get_title(patterns) + str(k))\n",
    "    k+=1"
   ]
  },
  {
   "cell_type": "code",
   "execution_count": null,
   "metadata": {},
   "outputs": [],
   "source": []
  },
  {
   "cell_type": "markdown",
   "metadata": {},
   "source": [
    "# Time calculation"
   ]
  },
  {
   "cell_type": "code",
   "execution_count": null,
   "metadata": {},
   "outputs": [
    {
     "ename": "",
     "evalue": "",
     "output_type": "error",
     "traceback": [
      "\u001b[1;31mThe Kernel crashed while executing code in the current cell or a previous cell. \n",
      "\u001b[1;31mPlease review the code in the cell(s) to identify a possible cause of the failure. \n",
      "\u001b[1;31mClick <a href='https://aka.ms/vscodeJupyterKernelCrash'>here</a> for more info. \n",
      "\u001b[1;31mView Jupyter <a href='command:jupyter.viewOutput'>log</a> for further details."
     ]
    }
   ],
   "source": [
    "def read_time(filename):\n",
    "    # Open the file\n",
    "    with open(filename, 'r') as file:\n",
    "        content = file.read()\n",
    "    number = float(content.strip())  # Use int() if the number is an integer\n",
    "    return number"
   ]
  },
  {
   "cell_type": "code",
   "execution_count": null,
   "metadata": {},
   "outputs": [],
   "source": [
    "## Extrat location of datafile\n",
    "graph_model = 'bandmat' #'cta'  # either cta or bandmat\n",
    "df = pd.DataFrame()\n",
    "for graph_model in ['cta', 'bandmat']:\n",
    "    ## Extrat location of datafile\n",
    "    paralleldg_files = algo_files(BENCHPRESS_LOC, 'parallel', ['parallel=True', graph_model, 'time.txt'])\n",
    "    paralleldg_files = [f for f in paralleldg_files if 'subindex' not in f]\n",
    "    paralleldg_files_sub = algo_files(BENCHPRESS_LOC, 'parallel', ['subindex.csv', 'parallel=True', graph_model])\n",
    "    gt13_files = algo_files(BENCHPRESS_LOC, 'athomas', ['sampler=2', graph_model, 'time.txt', 'full_output=False'])\n",
    "    gt13_files = [f for f in gt13_files if 'subindex' not in f]\n",
    "\n",
    "\n",
    "    paralleldg_files_single_move = algo_files(BENCHPRESS_LOC, 'parallel', ['parallel=False', graph_model,  'time.txt'])\n",
    "    gt13_single_move_files = algo_files(BENCHPRESS_LOC, 'athomas', ['sampler=1', graph_model,  'time.txt', 'full_output=False'])\n",
    "    gt13_single_move_files = [f for f in gt13_single_move_files if 'subindex' not in f]\n",
    "\n",
    "    gg99_files = algo_files(BENCHPRESS_LOC, 'athomas', ['sampler=0', graph_model, 'time.txt', 'full_output=False'])\n",
    "    gg99_files = [f for f in gg99_files if 'subindex' not in f]\n",
    "\n",
    "    true_graph_files = algo_files(BENCHPRESS_LOC, 'adjmat/',[graph_model, '.csv'])\n",
    "\n",
    "    trilearn_files = algo_files(BENCHPRESS_LOC, 'pgibbs', [graph_model, 'time.txt', 'M=1000'])\n",
    "    time_dict = dict()\n",
    "    time_list = []\n",
    "    for f in paralleldg_files:\n",
    "        time_list.append(read_time(f)/3000.0)\n",
    "    time_dict['Parallel'] = time_list\n",
    "\n",
    "\n",
    "    time_list = []\n",
    "    for f in paralleldg_files_single_move:\n",
    "        time_list.append(read_time(f)/2000.0)\n",
    "    time_dict['Single-move'] = time_list\n",
    "\n",
    "    time_list = []\n",
    "    for f in gt13_files:\n",
    "        time_list.append(read_time(f)/1000.0)\n",
    "    time_dict['GT13-m'] = time_list\n",
    "\n",
    "    time_list = []\n",
    "    for f in gt13_single_move_files:\n",
    "        time_list.append(read_time(f)/1000.0)\n",
    "    time_dict['GT13-s'] = time_list\n",
    "\n",
    "    time_list = []\n",
    "    for f in trilearn_files:\n",
    "        time_list.append(read_time(f)/10.0)\n",
    "    time_dict['O19'] = time_list\n",
    "    \n",
    "    time_list = []\n",
    "    for f in gg99_files:\n",
    "        time_list.append(read_time(f)/1000.0)\n",
    "    time_dict['GG99'] = time_list\n",
    "    df1 = pd.DataFrame(time_dict)\n",
    "    df1['graph'] = model_fullname[graph_model]\n",
    "    df = pd.concat([df, df1])"
   ]
  },
  {
   "cell_type": "code",
   "execution_count": null,
   "metadata": {},
   "outputs": [
    {
     "name": "stdout",
     "output_type": "stream",
     "text": [
      "save to: /home/mo/src/decomposable_paper/benchpress/img/time_boxplot_bandmat.jpg\n"
     ]
    },
    {
     "data": {
      "text/plain": [
       "<Figure size 576x360 with 0 Axes>"
      ]
     },
     "metadata": {},
     "output_type": "display_data"
    }
   ],
   "source": [
    "df_melted = df.melt(id_vars='graph', var_name='measurement')\n",
    "df1 = df_melted[df_melted.measurement != 'O19']\n",
    "# figure styles\n",
    "#sns.set_style('white')\n",
    "sns.set_context('paper', font_scale=1.2)\n",
    "plt.figure(figsize=(8, 5))\n",
    "sns.set_style('ticks', {'axes.edgecolor': 'black',  \n",
    "                        'xtick.color': 'black',\n",
    "                        'ytick.color': 'black'})\n",
    "# Plotting\n",
    "palette = ['white', '#C1CDCD']\n",
    "#plt.figure(figsize=(6, 4))\n",
    "ax = sns.boxplot(x='measurement', y='value', \n",
    "                 hue='graph', \n",
    "                 data=df1,\n",
    "                linewidth=0.8, \n",
    "                palette=palette)\n",
    "ax.set_ylabel('Average time (sec) for 1000 updates.')\n",
    "ax.set_xlabel('')\n",
    "save_location('time_boxplot')\n",
    "plt.show()\n"
   ]
  },
  {
   "cell_type": "code",
   "execution_count": null,
   "metadata": {},
   "outputs": [
    {
     "name": "stdout",
     "output_type": "stream",
     "text": [
      "\\begin{tabular}{lrrrrrr}\n",
      "\\toprule\n",
      "{} &  Parallel &  Single-move &  GT13-m &  GT13-s &     O19 &  GG99 \\\\\n",
      "\\midrule\n",
      "count &     20.00 &        20.00 &   20.00 &   20.00 &   20.00 & 20.00 \\\\\n",
      "mean  &      0.20 &         0.26 &    0.04 &    0.19 & 3810.16 &  0.06 \\\\\n",
      "std   &      0.04 &         0.03 &    0.01 &    0.04 &  122.58 &  0.00 \\\\\n",
      "min   &      0.14 &         0.20 &    0.03 &    0.12 & 3568.87 &  0.06 \\\\\n",
      "25\\%   &      0.17 &         0.23 &    0.03 &    0.16 & 3707.67 &  0.06 \\\\\n",
      "50\\%   &      0.20 &         0.26 &    0.04 &    0.19 & 3811.52 &  0.06 \\\\\n",
      "75\\%   &      0.22 &         0.28 &    0.05 &    0.24 & 3917.07 &  0.07 \\\\\n",
      "max   &      0.30 &         0.32 &    0.05 &    0.25 & 3986.64 &  0.07 \\\\\n",
      "\\bottomrule\n",
      "\\end{tabular}\n",
      "\n"
     ]
    }
   ],
   "source": [
    "print(df.describe().to_latex(index=True, float_format=\"%.2f\"))"
   ]
  },
  {
   "cell_type": "markdown",
   "metadata": {},
   "source": [
    "# Run all"
   ]
  },
  {
   "cell_type": "code",
   "execution_count": null,
   "metadata": {},
   "outputs": [
    {
     "name": "stdout",
     "output_type": "stream",
     "text": [
      "Number of files (should be equal)  \n",
      "                 GT13 \t\t\t\t5 \n",
      "                 dualGL \t\t\t65 \n",
      "                 equsa_psilearner \t\t65 \n",
      "                 huge_glasso \t\t45 \n",
      "                 huge_mb \t\t45 \n",
      "                 True graph files \t \t \t5\n"
     ]
    }
   ],
   "source": [
    "patterns = {'adjmat': 'graph=circle', 'data': 'n=50/', 'parameters': 'intra-class'}\n",
    "benchmark_pattern = '*' + par + '*'\n",
    "roc_filename = get_ROCfilenaem(benchmark_pattern)\n",
    "roc_file = file_roc_data(patterns, roc_filename)\n",
    "\n",
    "filter_list = ['adjmat_estimate/',patterns['data'], patterns['parameters'], patterns['adjmat']]\n",
    "gt13_files = algo_files(BENCHPRESS_LOC, 'algorithm=/athomas_jtsampler', \n",
    "                [patterns['data'], \n",
    "                patterns['parameters'], \n",
    "                patterns['adjmat'],\n",
    "                'adjvecs.tar.gz',\n",
    "                ])\n",
    "bdgraph_files = algo_files(BENCHPRESS_LOC, 'algorithm=/bdgraph', \n",
    "            [ \n",
    "                patterns['data'], \n",
    "                patterns['parameters'], \n",
    "                patterns['adjmat'],\n",
    "                '.tar.gz',\n",
    "            ])\n",
    "psilearner_files = algo_files(BENCHPRESS_LOC, 'algorithm=/equsa_psilearner', filter_list)\n",
    "huge_glasso_files = algo_files(BENCHPRESS_LOC, 'algorithm=/huge_glasso', filter_list)\n",
    "huge_mb_files = algo_files(BENCHPRESS_LOC, 'algorithm=/huge_mb', filter_list)\n",
    "dualgl_files = algo_files(BENCHPRESS_LOC, 'algorithm=/dualgl', filter_list)\n",
    "true_graph_files = algo_files(BENCHPRESS_LOC, 'adjmat/',[patterns['adjmat'], '.csv'])\n",
    "print(f\"Number of files (should be equal)  \\n \\\n",
    "                GT13 \\t\\t\\t\\t{len(gt13_files)} \\n \\\n",
    "                dualGL \\t\\t\\t{len(dualgl_files)} \\n \\\n",
    "                equsa_psilearner \\t\\t{len(psilearner_files)} \\n \\\n",
    "                huge_glasso \\t\\t{len(huge_glasso_files)} \\n \\\n",
    "                huge_mb \\t\\t{len(huge_mb_files)} \\n \\\n",
    "                True graph files \\t \\t \\t{len(true_graph_files)}\")"
   ]
  },
  {
   "cell_type": "code",
   "execution_count": null,
   "metadata": {},
   "outputs": [
    {
     "data": {
      "text/plain": [
       "({'adjmat': 'graph=circle', 'data': 0.92, 'parameters': 'intra-class'},\n",
       " 'results/output/benchmarks/dualGraph_p200_sparse_intra-class/ROC_data.csv')"
      ]
     },
     "execution_count": 12,
     "metadata": {},
     "output_type": "execute_result"
    }
   ],
   "source": [
    "patterns, roc_filename"
   ]
  },
  {
   "cell_type": "code",
   "execution_count": null,
   "metadata": {},
   "outputs": [
    {
     "name": "stdout",
     "output_type": "stream",
     "text": [
      "{'adjmat': 'bandmat', 'data': 'n=50/', 'parameters': 'gwi'}\n",
      "Number of files (should be equal)  \n",
      "                 GT13 \t\t\t\t5 \n",
      "                 dualGL \t\t\t65 \n",
      "                 equsa_psilearner \t\t65 \n",
      "                 bdgraph \t\t5 \n",
      "                 huge_glasso \t\t45 \n",
      "                 huge_mb \t\t45 \n",
      "                 True graph files \t \t \t5\n",
      "save to: img/gt_traj_n=50, graph=bandmat, param=gwi.jpg\n",
      "save to: img/bdgraph_traj_n=50, graph=bandmat, param=gwi.jpg\n",
      "save to: img/gt_size_n=50, graph=bandmat, param=gwi.jpg\n",
      "save to: img/bdgraph_size_n=50, graph=bandmat, param=gwi.jpg\n",
      "save to: img/gt_heatmap_traj_n=50, graph=bandmat, param=gwi0.jpg\n",
      "save to: img/gt_heatmap_traj_n=50, graph=bandmat, param=gwi1.jpg\n",
      "save to: img/gt_heatmap_traj_n=50, graph=bandmat, param=gwi2.jpg\n",
      "save to: img/gt_heatmap_traj_n=50, graph=bandmat, param=gwi3.jpg\n",
      "save to: img/gt_heatmap_traj_n=50, graph=bandmat, param=gwi4.jpg\n",
      "save to: img/bdgraph_heatmap_traj_n=50, graph=bandmat, param=gwi0.jpg\n",
      "save to: img/bdgraph_heatmap_traj_n=50, graph=bandmat, param=gwi1.jpg\n",
      "save to: img/bdgraph_heatmap_traj_n=50, graph=bandmat, param=gwi2.jpg\n",
      "save to: img/bdgraph_heatmap_traj_n=50, graph=bandmat, param=gwi3.jpg\n",
      "save to: img/bdgraph_heatmap_traj_n=50, graph=bandmat, param=gwi4.jpg\n",
      "save to: img/true_graph_traj_bandmat0.jpg\n",
      "save to: img/true_graph_traj_bandmat1.jpg\n",
      "save to: img/true_graph_traj_bandmat2.jpg\n",
      "save to: img/true_graph_traj_bandmat3.jpg\n",
      "save to: img/true_graph_traj_bandmat4.jpg\n",
      "save to: img/true_graph_bandmat0.jpg\n",
      "save to: img/true_graph_bandmat1.jpg\n",
      "save to: img/true_graph_bandmat2.jpg\n",
      "save to: img/true_graph_bandmat3.jpg\n",
      "save to: img/true_graph_bandmat4.jpg\n",
      "save to: img/gt_max_score_n=50, graph=bandmat, param=gwi0.jpg\n",
      "save to: img/gt_max_score_n=50, graph=bandmat, param=gwi1.jpg\n",
      "save to: img/gt_max_score_n=50, graph=bandmat, param=gwi2.jpg\n",
      "save to: img/gt_max_score_n=50, graph=bandmat, param=gwi3.jpg\n",
      "save to: img/gt_max_score_n=50, graph=bandmat, param=gwi4.jpg\n",
      "save to: img/bdgraph_max_score_n=50, graph=bandmat, param=gwi0.jpg\n",
      "save to: img/bdgraph_max_score_n=50, graph=bandmat, param=gwi1.jpg\n",
      "save to: img/bdgraph_max_score_n=50, graph=bandmat, param=gwi2.jpg\n",
      "save to: img/bdgraph_max_score_n=50, graph=bandmat, param=gwi3.jpg\n",
      "save to: img/bdgraph_max_score_n=50, graph=bandmat, param=gwi4.jpg\n",
      "results/adjvecs/adjmat=/trilearn_rand_bandmat/max_bandwidth=5/dim=200/seed=1/parameters=/bdgraph_rgwish/b=5/threshold_conv=1e-06/seed=1/data=/iid/n=50/standardized=False/algorithm=/athomas_jtsampler/alg_params=/timeout=None/mcmc_seed=1/num_samples=10000000/sampler=1/delta=5/edge_penalty=0/size_maxclique=500/full_output=True/seed=1/adjvecs.tar.gz\n",
      "results/adjmat/trilearn_rand_bandmat/max_bandwidth=5/dim=200/seed=1.csv\n",
      "results/adjvecs/adjmat=/trilearn_rand_bandmat/max_bandwidth=5/dim=200/seed=2/parameters=/bdgraph_rgwish/b=5/threshold_conv=1e-06/seed=2/data=/iid/n=50/standardized=False/algorithm=/athomas_jtsampler/alg_params=/timeout=None/mcmc_seed=1/num_samples=10000000/sampler=1/delta=5/edge_penalty=0/size_maxclique=500/full_output=True/seed=2/adjvecs.tar.gz\n",
      "results/adjmat/trilearn_rand_bandmat/max_bandwidth=5/dim=200/seed=2.csv\n",
      "results/adjvecs/adjmat=/trilearn_rand_bandmat/max_bandwidth=5/dim=200/seed=3/parameters=/bdgraph_rgwish/b=5/threshold_conv=1e-06/seed=3/data=/iid/n=50/standardized=False/algorithm=/athomas_jtsampler/alg_params=/timeout=None/mcmc_seed=1/num_samples=10000000/sampler=1/delta=5/edge_penalty=0/size_maxclique=500/full_output=True/seed=3/adjvecs.tar.gz\n",
      "results/adjmat/trilearn_rand_bandmat/max_bandwidth=5/dim=200/seed=3.csv\n",
      "results/adjvecs/adjmat=/trilearn_rand_bandmat/max_bandwidth=5/dim=200/seed=4/parameters=/bdgraph_rgwish/b=5/threshold_conv=1e-06/seed=4/data=/iid/n=50/standardized=False/algorithm=/athomas_jtsampler/alg_params=/timeout=None/mcmc_seed=1/num_samples=10000000/sampler=1/delta=5/edge_penalty=0/size_maxclique=500/full_output=True/seed=4/adjvecs.tar.gz\n",
      "results/adjmat/trilearn_rand_bandmat/max_bandwidth=5/dim=200/seed=4.csv\n",
      "results/adjvecs/adjmat=/trilearn_rand_bandmat/max_bandwidth=5/dim=200/seed=5/parameters=/bdgraph_rgwish/b=5/threshold_conv=1e-06/seed=5/data=/iid/n=50/standardized=False/algorithm=/athomas_jtsampler/alg_params=/timeout=None/mcmc_seed=1/num_samples=10000000/sampler=1/delta=5/edge_penalty=0/size_maxclique=500/full_output=True/seed=5/adjvecs.tar.gz\n",
      "results/adjmat/trilearn_rand_bandmat/max_bandwidth=5/dim=200/seed=5.csv\n",
      "{'adjmat': 'bandmat', 'data': 'n=100/', 'parameters': 'gwi'}\n",
      "Number of files (should be equal)  \n",
      "                 GT13 \t\t\t\t5 \n",
      "                 dualGL \t\t\t65 \n",
      "                 equsa_psilearner \t\t65 \n",
      "                 bdgraph \t\t5 \n",
      "                 huge_glasso \t\t45 \n",
      "                 huge_mb \t\t45 \n",
      "                 True graph files \t \t \t5\n",
      "save to: img/gt_traj_n=100, graph=bandmat, param=gwi.jpg\n",
      "save to: img/bdgraph_traj_n=100, graph=bandmat, param=gwi.jpg\n",
      "save to: img/gt_size_n=100, graph=bandmat, param=gwi.jpg\n",
      "save to: img/bdgraph_size_n=100, graph=bandmat, param=gwi.jpg\n",
      "save to: img/gt_heatmap_traj_n=100, graph=bandmat, param=gwi0.jpg\n",
      "save to: img/gt_heatmap_traj_n=100, graph=bandmat, param=gwi1.jpg\n",
      "save to: img/gt_heatmap_traj_n=100, graph=bandmat, param=gwi2.jpg\n",
      "save to: img/gt_heatmap_traj_n=100, graph=bandmat, param=gwi3.jpg\n",
      "save to: img/gt_heatmap_traj_n=100, graph=bandmat, param=gwi4.jpg\n",
      "save to: img/bdgraph_heatmap_traj_n=100, graph=bandmat, param=gwi0.jpg\n",
      "save to: img/bdgraph_heatmap_traj_n=100, graph=bandmat, param=gwi1.jpg\n",
      "save to: img/bdgraph_heatmap_traj_n=100, graph=bandmat, param=gwi2.jpg\n",
      "save to: img/bdgraph_heatmap_traj_n=100, graph=bandmat, param=gwi3.jpg\n",
      "save to: img/bdgraph_heatmap_traj_n=100, graph=bandmat, param=gwi4.jpg\n",
      "save to: img/true_graph_traj_bandmat0.jpg\n",
      "save to: img/true_graph_traj_bandmat1.jpg\n",
      "save to: img/true_graph_traj_bandmat2.jpg\n",
      "save to: img/true_graph_traj_bandmat3.jpg\n",
      "save to: img/true_graph_traj_bandmat4.jpg\n",
      "save to: img/true_graph_bandmat0.jpg\n",
      "save to: img/true_graph_bandmat1.jpg\n",
      "save to: img/true_graph_bandmat2.jpg\n",
      "save to: img/true_graph_bandmat3.jpg\n",
      "save to: img/true_graph_bandmat4.jpg\n",
      "save to: img/gt_max_score_n=100, graph=bandmat, param=gwi0.jpg\n",
      "save to: img/gt_max_score_n=100, graph=bandmat, param=gwi1.jpg\n",
      "save to: img/gt_max_score_n=100, graph=bandmat, param=gwi2.jpg\n",
      "save to: img/gt_max_score_n=100, graph=bandmat, param=gwi3.jpg\n",
      "save to: img/gt_max_score_n=100, graph=bandmat, param=gwi4.jpg\n",
      "save to: img/bdgraph_max_score_n=100, graph=bandmat, param=gwi0.jpg\n",
      "save to: img/bdgraph_max_score_n=100, graph=bandmat, param=gwi1.jpg\n",
      "save to: img/bdgraph_max_score_n=100, graph=bandmat, param=gwi2.jpg\n",
      "save to: img/bdgraph_max_score_n=100, graph=bandmat, param=gwi3.jpg\n",
      "save to: img/bdgraph_max_score_n=100, graph=bandmat, param=gwi4.jpg\n",
      "results/adjvecs/adjmat=/trilearn_rand_bandmat/max_bandwidth=5/dim=200/seed=1/parameters=/bdgraph_rgwish/b=5/threshold_conv=1e-06/seed=1/data=/iid/n=100/standardized=False/algorithm=/athomas_jtsampler/alg_params=/timeout=None/mcmc_seed=1/num_samples=10000000/sampler=1/delta=5/edge_penalty=0/size_maxclique=500/full_output=True/seed=1/adjvecs.tar.gz\n",
      "results/adjmat/trilearn_rand_bandmat/max_bandwidth=5/dim=200/seed=1.csv\n",
      "results/adjvecs/adjmat=/trilearn_rand_bandmat/max_bandwidth=5/dim=200/seed=2/parameters=/bdgraph_rgwish/b=5/threshold_conv=1e-06/seed=2/data=/iid/n=100/standardized=False/algorithm=/athomas_jtsampler/alg_params=/timeout=None/mcmc_seed=1/num_samples=10000000/sampler=1/delta=5/edge_penalty=0/size_maxclique=500/full_output=True/seed=2/adjvecs.tar.gz\n",
      "results/adjmat/trilearn_rand_bandmat/max_bandwidth=5/dim=200/seed=2.csv\n",
      "results/adjvecs/adjmat=/trilearn_rand_bandmat/max_bandwidth=5/dim=200/seed=3/parameters=/bdgraph_rgwish/b=5/threshold_conv=1e-06/seed=3/data=/iid/n=100/standardized=False/algorithm=/athomas_jtsampler/alg_params=/timeout=None/mcmc_seed=1/num_samples=10000000/sampler=1/delta=5/edge_penalty=0/size_maxclique=500/full_output=True/seed=3/adjvecs.tar.gz\n",
      "results/adjmat/trilearn_rand_bandmat/max_bandwidth=5/dim=200/seed=3.csv\n",
      "results/adjvecs/adjmat=/trilearn_rand_bandmat/max_bandwidth=5/dim=200/seed=4/parameters=/bdgraph_rgwish/b=5/threshold_conv=1e-06/seed=4/data=/iid/n=100/standardized=False/algorithm=/athomas_jtsampler/alg_params=/timeout=None/mcmc_seed=1/num_samples=10000000/sampler=1/delta=5/edge_penalty=0/size_maxclique=500/full_output=True/seed=4/adjvecs.tar.gz\n",
      "results/adjmat/trilearn_rand_bandmat/max_bandwidth=5/dim=200/seed=4.csv\n",
      "results/adjvecs/adjmat=/trilearn_rand_bandmat/max_bandwidth=5/dim=200/seed=5/parameters=/bdgraph_rgwish/b=5/threshold_conv=1e-06/seed=5/data=/iid/n=100/standardized=False/algorithm=/athomas_jtsampler/alg_params=/timeout=None/mcmc_seed=1/num_samples=10000000/sampler=1/delta=5/edge_penalty=0/size_maxclique=500/full_output=True/seed=5/adjvecs.tar.gz\n",
      "results/adjmat/trilearn_rand_bandmat/max_bandwidth=5/dim=200/seed=5.csv\n",
      "{'adjmat': 'bandmat', 'data': 'n=200/', 'parameters': 'gwi'}\n",
      "Number of files (should be equal)  \n",
      "                 GT13 \t\t\t\t5 \n",
      "                 dualGL \t\t\t65 \n",
      "                 equsa_psilearner \t\t65 \n",
      "                 bdgraph \t\t5 \n",
      "                 huge_glasso \t\t45 \n",
      "                 huge_mb \t\t45 \n",
      "                 True graph files \t \t \t5\n",
      "save to: img/gt_traj_n=200, graph=bandmat, param=gwi.jpg\n",
      "save to: img/bdgraph_traj_n=200, graph=bandmat, param=gwi.jpg\n",
      "save to: img/gt_size_n=200, graph=bandmat, param=gwi.jpg\n",
      "save to: img/bdgraph_size_n=200, graph=bandmat, param=gwi.jpg\n",
      "save to: img/gt_heatmap_traj_n=200, graph=bandmat, param=gwi0.jpg\n",
      "save to: img/gt_heatmap_traj_n=200, graph=bandmat, param=gwi1.jpg\n",
      "save to: img/gt_heatmap_traj_n=200, graph=bandmat, param=gwi2.jpg\n",
      "save to: img/gt_heatmap_traj_n=200, graph=bandmat, param=gwi3.jpg\n",
      "save to: img/gt_heatmap_traj_n=200, graph=bandmat, param=gwi4.jpg\n",
      "save to: img/bdgraph_heatmap_traj_n=200, graph=bandmat, param=gwi0.jpg\n",
      "save to: img/bdgraph_heatmap_traj_n=200, graph=bandmat, param=gwi1.jpg\n",
      "save to: img/bdgraph_heatmap_traj_n=200, graph=bandmat, param=gwi2.jpg\n",
      "save to: img/bdgraph_heatmap_traj_n=200, graph=bandmat, param=gwi3.jpg\n",
      "save to: img/bdgraph_heatmap_traj_n=200, graph=bandmat, param=gwi4.jpg\n",
      "save to: img/true_graph_traj_bandmat0.jpg\n",
      "save to: img/true_graph_traj_bandmat1.jpg\n",
      "save to: img/true_graph_traj_bandmat2.jpg\n",
      "save to: img/true_graph_traj_bandmat3.jpg\n",
      "save to: img/true_graph_traj_bandmat4.jpg\n",
      "save to: img/true_graph_bandmat0.jpg\n",
      "save to: img/true_graph_bandmat1.jpg\n",
      "save to: img/true_graph_bandmat2.jpg\n",
      "save to: img/true_graph_bandmat3.jpg\n",
      "save to: img/true_graph_bandmat4.jpg\n",
      "save to: img/gt_max_score_n=200, graph=bandmat, param=gwi0.jpg\n",
      "save to: img/gt_max_score_n=200, graph=bandmat, param=gwi1.jpg\n",
      "save to: img/gt_max_score_n=200, graph=bandmat, param=gwi2.jpg\n",
      "save to: img/gt_max_score_n=200, graph=bandmat, param=gwi3.jpg\n",
      "save to: img/gt_max_score_n=200, graph=bandmat, param=gwi4.jpg\n",
      "save to: img/bdgraph_max_score_n=200, graph=bandmat, param=gwi0.jpg\n",
      "save to: img/bdgraph_max_score_n=200, graph=bandmat, param=gwi1.jpg\n",
      "save to: img/bdgraph_max_score_n=200, graph=bandmat, param=gwi2.jpg\n",
      "save to: img/bdgraph_max_score_n=200, graph=bandmat, param=gwi3.jpg\n",
      "save to: img/bdgraph_max_score_n=200, graph=bandmat, param=gwi4.jpg\n",
      "results/adjvecs/adjmat=/trilearn_rand_bandmat/max_bandwidth=5/dim=200/seed=1/parameters=/bdgraph_rgwish/b=5/threshold_conv=1e-06/seed=1/data=/iid/n=200/standardized=False/algorithm=/athomas_jtsampler/alg_params=/timeout=None/mcmc_seed=1/num_samples=10000000/sampler=1/delta=5/edge_penalty=0/size_maxclique=500/full_output=True/seed=1/adjvecs.tar.gz\n",
      "results/adjmat/trilearn_rand_bandmat/max_bandwidth=5/dim=200/seed=1.csv\n",
      "results/adjvecs/adjmat=/trilearn_rand_bandmat/max_bandwidth=5/dim=200/seed=2/parameters=/bdgraph_rgwish/b=5/threshold_conv=1e-06/seed=2/data=/iid/n=200/standardized=False/algorithm=/athomas_jtsampler/alg_params=/timeout=None/mcmc_seed=1/num_samples=10000000/sampler=1/delta=5/edge_penalty=0/size_maxclique=500/full_output=True/seed=2/adjvecs.tar.gz\n",
      "results/adjmat/trilearn_rand_bandmat/max_bandwidth=5/dim=200/seed=2.csv\n",
      "results/adjvecs/adjmat=/trilearn_rand_bandmat/max_bandwidth=5/dim=200/seed=3/parameters=/bdgraph_rgwish/b=5/threshold_conv=1e-06/seed=3/data=/iid/n=200/standardized=False/algorithm=/athomas_jtsampler/alg_params=/timeout=None/mcmc_seed=1/num_samples=10000000/sampler=1/delta=5/edge_penalty=0/size_maxclique=500/full_output=True/seed=3/adjvecs.tar.gz\n",
      "results/adjmat/trilearn_rand_bandmat/max_bandwidth=5/dim=200/seed=3.csv\n",
      "results/adjvecs/adjmat=/trilearn_rand_bandmat/max_bandwidth=5/dim=200/seed=4/parameters=/bdgraph_rgwish/b=5/threshold_conv=1e-06/seed=4/data=/iid/n=200/standardized=False/algorithm=/athomas_jtsampler/alg_params=/timeout=None/mcmc_seed=1/num_samples=10000000/sampler=1/delta=5/edge_penalty=0/size_maxclique=500/full_output=True/seed=4/adjvecs.tar.gz\n",
      "results/adjmat/trilearn_rand_bandmat/max_bandwidth=5/dim=200/seed=4.csv\n",
      "results/adjvecs/adjmat=/trilearn_rand_bandmat/max_bandwidth=5/dim=200/seed=5/parameters=/bdgraph_rgwish/b=5/threshold_conv=1e-06/seed=5/data=/iid/n=200/standardized=False/algorithm=/athomas_jtsampler/alg_params=/timeout=None/mcmc_seed=1/num_samples=10000000/sampler=1/delta=5/edge_penalty=0/size_maxclique=500/full_output=True/seed=5/adjvecs.tar.gz\n",
      "results/adjmat/trilearn_rand_bandmat/max_bandwidth=5/dim=200/seed=5.csv\n",
      "{'adjmat': 'bandmat', 'data': 'n=500/', 'parameters': 'gwi'}\n",
      "Number of files (should be equal)  \n",
      "                 GT13 \t\t\t\t5 \n",
      "                 dualGL \t\t\t65 \n",
      "                 equsa_psilearner \t\t65 \n",
      "                 bdgraph \t\t5 \n",
      "                 huge_glasso \t\t45 \n",
      "                 huge_mb \t\t45 \n",
      "                 True graph files \t \t \t5\n",
      "save to: img/gt_traj_n=500, graph=bandmat, param=gwi.jpg\n",
      "save to: img/bdgraph_traj_n=500, graph=bandmat, param=gwi.jpg\n",
      "save to: img/gt_size_n=500, graph=bandmat, param=gwi.jpg\n",
      "save to: img/bdgraph_size_n=500, graph=bandmat, param=gwi.jpg\n",
      "save to: img/gt_heatmap_traj_n=500, graph=bandmat, param=gwi0.jpg\n",
      "save to: img/gt_heatmap_traj_n=500, graph=bandmat, param=gwi1.jpg\n",
      "save to: img/gt_heatmap_traj_n=500, graph=bandmat, param=gwi2.jpg\n",
      "save to: img/gt_heatmap_traj_n=500, graph=bandmat, param=gwi3.jpg\n",
      "save to: img/gt_heatmap_traj_n=500, graph=bandmat, param=gwi4.jpg\n",
      "save to: img/bdgraph_heatmap_traj_n=500, graph=bandmat, param=gwi0.jpg\n",
      "save to: img/bdgraph_heatmap_traj_n=500, graph=bandmat, param=gwi1.jpg\n",
      "save to: img/bdgraph_heatmap_traj_n=500, graph=bandmat, param=gwi2.jpg\n",
      "save to: img/bdgraph_heatmap_traj_n=500, graph=bandmat, param=gwi3.jpg\n",
      "save to: img/bdgraph_heatmap_traj_n=500, graph=bandmat, param=gwi4.jpg\n",
      "save to: img/true_graph_traj_bandmat0.jpg\n",
      "save to: img/true_graph_traj_bandmat1.jpg\n",
      "save to: img/true_graph_traj_bandmat2.jpg\n",
      "save to: img/true_graph_traj_bandmat3.jpg\n",
      "save to: img/true_graph_traj_bandmat4.jpg\n",
      "save to: img/true_graph_bandmat0.jpg\n",
      "save to: img/true_graph_bandmat1.jpg\n",
      "save to: img/true_graph_bandmat2.jpg\n",
      "save to: img/true_graph_bandmat3.jpg\n",
      "save to: img/true_graph_bandmat4.jpg\n",
      "save to: img/gt_max_score_n=500, graph=bandmat, param=gwi0.jpg\n",
      "save to: img/gt_max_score_n=500, graph=bandmat, param=gwi1.jpg\n",
      "save to: img/gt_max_score_n=500, graph=bandmat, param=gwi2.jpg\n",
      "save to: img/gt_max_score_n=500, graph=bandmat, param=gwi3.jpg\n",
      "save to: img/gt_max_score_n=500, graph=bandmat, param=gwi4.jpg\n",
      "save to: img/bdgraph_max_score_n=500, graph=bandmat, param=gwi0.jpg\n",
      "save to: img/bdgraph_max_score_n=500, graph=bandmat, param=gwi1.jpg\n",
      "save to: img/bdgraph_max_score_n=500, graph=bandmat, param=gwi2.jpg\n",
      "save to: img/bdgraph_max_score_n=500, graph=bandmat, param=gwi3.jpg\n",
      "save to: img/bdgraph_max_score_n=500, graph=bandmat, param=gwi4.jpg\n",
      "results/adjvecs/adjmat=/trilearn_rand_bandmat/max_bandwidth=5/dim=200/seed=1/parameters=/bdgraph_rgwish/b=5/threshold_conv=1e-06/seed=1/data=/iid/n=500/standardized=False/algorithm=/athomas_jtsampler/alg_params=/timeout=None/mcmc_seed=1/num_samples=10000000/sampler=1/delta=5/edge_penalty=0/size_maxclique=500/full_output=True/seed=1/adjvecs.tar.gz\n",
      "results/adjmat/trilearn_rand_bandmat/max_bandwidth=5/dim=200/seed=1.csv\n",
      "results/adjvecs/adjmat=/trilearn_rand_bandmat/max_bandwidth=5/dim=200/seed=2/parameters=/bdgraph_rgwish/b=5/threshold_conv=1e-06/seed=2/data=/iid/n=500/standardized=False/algorithm=/athomas_jtsampler/alg_params=/timeout=None/mcmc_seed=1/num_samples=10000000/sampler=1/delta=5/edge_penalty=0/size_maxclique=500/full_output=True/seed=2/adjvecs.tar.gz\n",
      "results/adjmat/trilearn_rand_bandmat/max_bandwidth=5/dim=200/seed=2.csv\n",
      "results/adjvecs/adjmat=/trilearn_rand_bandmat/max_bandwidth=5/dim=200/seed=3/parameters=/bdgraph_rgwish/b=5/threshold_conv=1e-06/seed=3/data=/iid/n=500/standardized=False/algorithm=/athomas_jtsampler/alg_params=/timeout=None/mcmc_seed=1/num_samples=10000000/sampler=1/delta=5/edge_penalty=0/size_maxclique=500/full_output=True/seed=3/adjvecs.tar.gz\n",
      "results/adjmat/trilearn_rand_bandmat/max_bandwidth=5/dim=200/seed=3.csv\n",
      "results/adjvecs/adjmat=/trilearn_rand_bandmat/max_bandwidth=5/dim=200/seed=4/parameters=/bdgraph_rgwish/b=5/threshold_conv=1e-06/seed=4/data=/iid/n=500/standardized=False/algorithm=/athomas_jtsampler/alg_params=/timeout=None/mcmc_seed=1/num_samples=10000000/sampler=1/delta=5/edge_penalty=0/size_maxclique=500/full_output=True/seed=4/adjvecs.tar.gz\n",
      "results/adjmat/trilearn_rand_bandmat/max_bandwidth=5/dim=200/seed=4.csv\n",
      "results/adjvecs/adjmat=/trilearn_rand_bandmat/max_bandwidth=5/dim=200/seed=5/parameters=/bdgraph_rgwish/b=5/threshold_conv=1e-06/seed=5/data=/iid/n=500/standardized=False/algorithm=/athomas_jtsampler/alg_params=/timeout=None/mcmc_seed=1/num_samples=10000000/sampler=1/delta=5/edge_penalty=0/size_maxclique=500/full_output=True/seed=5/adjvecs.tar.gz\n",
      "results/adjmat/trilearn_rand_bandmat/max_bandwidth=5/dim=200/seed=5.csv\n"
     ]
    }
   ],
   "source": [
    "parameters = ['intra-class', 'gwi']\n",
    "parameters = ['gwi']\n",
    "data = ['n=50/', 'n=100/', 'n=200/', 'n=500/']\n",
    "adjmat = ['circle', 'random', 'lattice', 'bandmat']\n",
    "adjmat = ['bandmat']\n",
    "for par in parameters:\n",
    "    for adj in adjmat: \n",
    "        for d in data:\n",
    "            adjmat_pattern= adj\n",
    "            data_pattern  = d\n",
    "            parameters_pattern = par\n",
    "            benchmark_pattern = '*' + par + '*'\n",
    "            patterns = {\n",
    "                'adjmat': adjmat_pattern,\n",
    "                'data': data_pattern,\n",
    "                'parameters': parameters_pattern,\n",
    "            }\n",
    "            roc_filename = get_ROCfilenaem(benchmark_pattern)\n",
    "            roc_file = file_roc_data(roc_filename, patterns)       \n",
    "            print(patterns)\n",
    "            filter_list = ['adjmat_estimate/',patterns['data'], patterns['parameters'], patterns['adjmat']]\n",
    "            if 'random' in patterns['adjmat']:\n",
    "               filter_list += ['prob=0.01'] \n",
    "            gt13_files = algo_files(BENCHPRESS_LOC, 'algorithm=/athomas_jtsampler', \n",
    "               filter_list[1:] + ['adjvecs.tar.gz'])\n",
    "            bdgraph_files = algo_files(BENCHPRESS_LOC, 'algorithm=/bdgraph', \n",
    "            filter_list[1:] + [ '.tar.gz'])\n",
    "            \n",
    "            psilearner_files = algo_files(BENCHPRESS_LOC, 'algorithm=/equsa_psilearner', filter_list)\n",
    "            huge_glasso_files = algo_files(BENCHPRESS_LOC, 'algorithm=/huge_glasso', filter_list)\n",
    "            huge_mb_files = algo_files(BENCHPRESS_LOC, 'algorithm=/huge_mb', filter_list)\n",
    "            dualgl_files = algo_files(BENCHPRESS_LOC, 'algorithm=/dualgl', filter_list)\n",
    "            if 'random' in patterns['adjmat']:\n",
    "                true_graph_files = algo_files(BENCHPRESS_LOC, 'adjmat/',[patterns['adjmat'], 'prob=0.01', '.csv'])\n",
    "            else:\n",
    "                true_graph_files = algo_files(BENCHPRESS_LOC, 'adjmat/',[patterns['adjmat'], '.csv'])\n",
    "\n",
    "            print(f\"Number of files (should be equal)  \\n \\\n",
    "                GT13 \\t\\t\\t\\t{len(gt13_files)} \\n \\\n",
    "                dualGL \\t\\t\\t{len(dualgl_files)} \\n \\\n",
    "                equsa_psilearner \\t\\t{len(psilearner_files)} \\n \\\n",
    "                bdgraph \\t\\t{len(bdgraph_files)} \\n \\\n",
    "                huge_glasso \\t\\t{len(huge_glasso_files)} \\n \\\n",
    "                huge_mb \\t\\t{len(huge_mb_files)} \\n \\\n",
    "                True graph files \\t \\t \\t{len(true_graph_files)}\")\n",
    "            \n",
    "            # tajectory plot\n",
    "            for f in gt13_files:\n",
    "                score_traj_plot(f)\n",
    "                #plt.ylim((0, 2400))\n",
    "            plt.title(gt13_label + ', ' + get_title(patterns))\n",
    "            save_location('gt_traj_'+ get_title(patterns))\n",
    "\n",
    "            for f in bdgraph_files:\n",
    "                score_traj_plot(f)\n",
    "            plt.title(bdgraph_label + ', ' + get_title(patterns))\n",
    "            save_location('bdgraph_traj_'+ get_title(patterns))\n",
    "\n",
    "            # size traj plot\n",
    "            for f in gt13_files:\n",
    "                size_traj_plot(f)\n",
    "            plt.title(gt13_label + ', ' + get_title(patterns))\n",
    "            save_location('gt_size_' + get_title(patterns))\n",
    "\n",
    "            for f in bdgraph_files:\n",
    "                size_traj_plot(f)\n",
    "            plt.title(bdgraph_label + ', ' + get_title(patterns))\n",
    "            save_location('bdgraph_size_'+ get_title(patterns))\n",
    "            \n",
    "            # heatmaps\n",
    "            k=0\n",
    "            for f in gt13_files: \n",
    "                plot_heatmap(f, cbar=False)\n",
    "                plt.title(gt13_label +  get_title(patterns) + f\" Graph {k+1}\")\n",
    "                save_location('gt_heatmap_traj_' + get_title(patterns) + str(k))\n",
    "                k+=1\n",
    "            \n",
    "            k=0\n",
    "            for f in bdgraph_files:\n",
    "                plot_heatmap(f, cbar=False)\n",
    "                plt.title(bdgraph_label + get_title(patterns)+ f\" Graph {k+1}\")\n",
    "                save_location('bdgraph_heatmap_traj_' + get_title(patterns) + str(k))\n",
    "                k+=1\n",
    "\n",
    "            # true graph\n",
    "            k=0\n",
    "            for f in true_graph_files:\n",
    "                plot_graph(read_csv_from_tar_gz(f), cbar=False)\n",
    "                plt.title(f\"Graph {k+1}\" + ' - ' +  patterns['adjmat'])\n",
    "                save_location('true_graph_traj_' +  patterns['adjmat'] + str(k))\n",
    "                plt.clf()\n",
    "                k+=1\n",
    "\n",
    "            k=0\n",
    "            for f in true_graph_files:\n",
    "                plot_nx_graph(read_csv_from_tar_gz(f))\n",
    "                plt.title(f\"Graph {k+1}\" + ' - ' + patterns['adjmat'])\n",
    "                save_location('true_graph_' + patterns['adjmat']+ str(k))\n",
    "                plt.clf()\n",
    "                k+=1\n",
    "            \n",
    "            # plot max score graph\n",
    "            k=0\n",
    "            for f in gt13_files:\n",
    "                plot_max_score_graph(read_csv_from_tar_gz(f))\n",
    "                plt.title(gt13_label +  get_title(patterns) + f\" Graph {k+1}\")\n",
    "                save_location('gt_max_score_' + get_title(patterns) + str(k))\n",
    "                k+=1\n",
    "            \n",
    "            k=0\n",
    "            for f in bdgraph_files:\n",
    "                plot_max_score_graph(read_csv_from_tar_gz(f))\n",
    "                plt.title(bdgraph_label + get_title(patterns)+ f\" Graph {k+1}\")\n",
    "                save_location('bdgraph_max_score_' + get_title(patterns) + str(k))\n",
    "                k+=1\n",
    "\n",
    "            # Save decomposbale cover\n",
    "            k = 0\n",
    "            combined_list = []\n",
    "            dict_to_save = dict()\n",
    "            for est_traj, true_graph in zip(gt13_files, true_graph_files):\n",
    "                print(est_traj)\n",
    "                print(true_graph)\n",
    "                true_adj = read_csv_from_tar_gz(true_graph)\n",
    "                t_g = nx.from_numpy_array(true_adj.to_numpy())\n",
    "                est_adj = read_csv_from_tar_gz(est_traj)\n",
    "                res = get_decomposable_cover(est_adj, t_g, 0.5)\n",
    "                # Calculate quartiles\n",
    "                combined_list.append(res)\n",
    "            patterns['percnt_cover'] = combined_list\n",
    "\n",
    "            # Save the dictionary to a JSON file\n",
    "            filename = get_title(patterns)\n",
    "            with open(SAVE_LOC+'decomposable_cover'+filename+'.json', 'w') as f:\n",
    "                json.dump(patterns, f, indent=4) \n",
    "    "
   ]
  },
  {
   "cell_type": "code",
   "execution_count": 2,
   "metadata": {},
   "outputs": [],
   "source": [
    "import json\n",
    "def read_json_and_extract_list(file_path):\n",
    "  \"\"\"\n",
    "  Reads a JSON file with a name tag and a list, and returns the list.\n",
    "\n",
    "  Args:\n",
    "    file_path: The path to the JSON file.\n",
    "\n",
    "  Returns:\n",
    "    The list extracted from the JSON file.\n",
    "  \"\"\"\n",
    "  with open(file_path, 'r') as f:\n",
    "    data = json.load(f)\n",
    "  return data"
   ]
  },
  {
   "cell_type": "markdown",
   "metadata": {},
   "source": [
    "# plotting decomposable coverage percentage"
   ]
  },
  {
   "cell_type": "code",
   "execution_count": 4,
   "metadata": {},
   "outputs": [
    {
     "name": "stdout",
     "output_type": "stream",
     "text": [
      "adj random: num sampels 4999989\n",
      "adj random: num sampels 5000005\n",
      "adj random: num sampels 5000001\n",
      "adj random: num sampels 4999986\n",
      "adj lattice: num sampels 5000000\n",
      "adj lattice: num sampels 5000000\n",
      "adj lattice: num sampels 5000001\n",
      "adj lattice: num sampels 5000007\n",
      "adj circle: num sampels 5000002\n",
      "adj circle: num sampels 4999999\n",
      "adj circle: num sampels 5000015\n",
      "adj circle: num sampels 5000001\n",
      "adj bandmat: num sampels 4999992\n",
      "adj bandmat: num sampels 4999999\n",
      "adj bandmat: num sampels 4999993\n",
      "adj bandmat: num sampels 5000029\n",
      "save to: img/decomposable_cover.jpg\n"
     ]
    },
    {
     "ename": "",
     "evalue": "",
     "output_type": "error",
     "traceback": [
      "\u001b[1;31mThe Kernel crashed while executing code in the current cell or a previous cell. \n",
      "\u001b[1;31mPlease review the code in the cell(s) to identify a possible cause of the failure. \n",
      "\u001b[1;31mClick <a href='https://aka.ms/vscodeJupyterKernelCrash'>here</a> for more info. \n",
      "\u001b[1;31mView Jupyter <a href='command:jupyter.viewOutput'>log</a> for further details."
     ]
    }
   ],
   "source": [
    "import json\n",
    "import matplotlib.pyplot as plt\n",
    "import seaborn as sns\n",
    "import pandas as pd\n",
    "import numpy as np\n",
    "\n",
    "# Assuming these functions are defined elsewhere\n",
    "# from your_module import get_title, read_json_and_extract_list, SAVE_LOC\n",
    "\n",
    "parameters = ['gwi']\n",
    "data = ['n=50/', 'n=100/', 'n=200/', 'n=500/']\n",
    "adjmat = ['random', 'lattice', 'circle','bandmat']\n",
    "data_labels = [50, 100, 200, 500]\n",
    "\n",
    "line_type = {\n",
    "    'circle': '-', \n",
    "    'random': '--', \n",
    "    'lattice': ':', \n",
    "    'bandmat': '-.'\n",
    "}\n",
    "\n",
    "line_color = {\n",
    "    'circle': 'black', \n",
    "    'random': 'red', \n",
    "    'lattice': 'blue', \n",
    "    'bandmat': 'green'\n",
    "}\n",
    "\n",
    "fill_colors = {\n",
    "    'circle': 'darkgrey',\n",
    "    'random': 'white',\n",
    "    'lattice': 'lightgrey',\n",
    "    'bandmat': 'black'\n",
    "}\n",
    "\n",
    "# Create a list to store all data\n",
    "all_data = []\n",
    "\n",
    "for adj in adjmat:\n",
    "    for d, n in zip(data, data_labels):\n",
    "        for par in parameters:\n",
    "            patterns = {\n",
    "                'adjmat': adj,\n",
    "                'data': d,\n",
    "                'parameters': par,\n",
    "            }\n",
    "            filename = get_title(patterns)\n",
    "            file_path = SAVE_LOC + 'decomposable_cover' + filename + '.json'\n",
    "            data_list = read_json_and_extract_list(file_path)['percnt_cover']\n",
    "            data_list = data_list[0]\n",
    "\n",
    "            # Calculate the mean of the data\n",
    "            # data_list = [np.mean(i) for i in zip(*data_list)]\n",
    "\n",
    "\n",
    "            print(f\"adj {adj}: num sampels {len(data_list)}\")\n",
    "            # Append data to all_data list\n",
    "            all_data.extend([{'Graph Type': adj, 'Number of samples': n, 'Percent of decomposable cover': value} for value in data_list])\n",
    "\n",
    "# Convert to DataFrame\n",
    "df = pd.DataFrame(all_data)\n",
    "\n",
    "# Set up the matplotlib figure\n",
    "plt.figure(figsize=(7, 4))\n",
    "\n",
    "# Create the boxplot using seaborn\n",
    "sns.boxplot(x='Number of samples', y='Percent of decomposable cover', hue='Graph Type', \n",
    "            data=df, palette=fill_colors, linewidth=1,\n",
    "            boxprops=dict(edgecolor='black'),\n",
    "            fliersize=0)\n",
    "\n",
    "# Customize the plot\n",
    "plt.xlabel('Number of samples (n)')\n",
    "plt.ylabel('Averate true positive rate')\n",
    "plt.legend(title='Graph Type', loc='lower right')\n",
    "plt.ylim(0, 1)\n",
    "save_location('decomposable_cover')\n",
    "# Show the plot\n",
    "#plt.show()"
   ]
  },
  {
   "cell_type": "code",
   "execution_count": null,
   "metadata": {},
   "outputs": [],
   "source": []
  }
 ],
 "metadata": {
  "kernelspec": {
   "display_name": "Python 3 (ipykernel)",
   "language": "python",
   "name": "python3"
  },
  "language_info": {
   "codemirror_mode": {
    "name": "ipython",
    "version": 3
   },
   "file_extension": ".py",
   "mimetype": "text/x-python",
   "name": "python",
   "nbconvert_exporter": "python",
   "pygments_lexer": "ipython3",
   "version": "3.12.3"
  }
 },
 "nbformat": 4,
 "nbformat_minor": 2
}
